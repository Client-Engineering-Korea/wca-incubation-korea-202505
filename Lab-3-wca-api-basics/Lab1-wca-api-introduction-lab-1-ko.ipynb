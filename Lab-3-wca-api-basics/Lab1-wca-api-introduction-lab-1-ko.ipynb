{
 "cells": [
  {
   "cell_type": "markdown",
   "metadata": {},
   "source": [
    "##### 사전 준비\n",
    "- 실습 노트북의 python 커널 환경을 선택합니다.\n",
    "  - VScode 우측 상단의 \"Select Kernel\" 을 클릭하여 실습에 사용하고자 하는 python 커널을 선택합니다.\n",
    "  - 터미널에서 사용할 python 버전과 동일한 버전으로 선택합니다.\n",
    "    - python --version\n",
    "    - pip --version\n",
    "\n",
    "- 실습에 사용할 가상환경을 생성합니다.\n",
    "  - cd <REPO-PATH>/Lab-3-wca-api-basics\n",
    "  - python -m venv venv\n",
    "  - source venv/bin/activate\n",
    "\n",
    "- 실습을 시작하기 전에 .env 파일을 생성하고 IAM_APIKEY를 입력하세요 (.env-sample 참고)\n",
    "  - vi .env\n",
    "\n",
    "- 다음 명령어로 필요한 Python 라이브러리를 설치합니다\n",
    "  - pip install -r requirements.txt"
   ]
  },
  {
   "cell_type": "code",
   "execution_count": null,
   "metadata": {},
   "outputs": [],
   "source": [
    "from wca_utils import *"
   ]
  },
  {
   "cell_type": "markdown",
   "metadata": {},
   "source": [
    "### Lab 1.1. Swagger 명세로부터 REST API 생성\n",
    "\n",
    "WCA API에 prompt를 보내 Swagger 명세 파일을 기반으로 Python REST API 코드를 생성합니다. 아래 셀을 실행하면 결과를 확인할 수 있으며, 다른 prompt나 Swagger 명세로 자유롭게 실험해 볼 수 있습니다."
   ]
  },
  {
   "cell_type": "code",
   "execution_count": null,
   "metadata": {},
   "outputs": [],
   "source": [
    "# sample\n",
    "text = \"\"\"Create a minimal Flask API using only @app.route and jsonify, based on the given Swagger:\"\"\"\n",
    "payload = build_basic_prompt_paylod(text)\n",
    "response = call_wca_url(payload=payload, apikey=iam_apikey, file_dict=[\"assets/petstore-minimal.json\"])\n",
    "result = (response['response']['message']['content'])\n",
    "print(result)"
   ]
  },
  {
   "cell_type": "markdown",
   "metadata": {},
   "source": [
    "### Lab 1.2. Python 파일에 대한 설명 생성\n",
    "\n",
    "WCA API를 사용해 sample.py 파일의 내용을 설명합니다. 원하는 prompt나 코드 파일을 활용해 자유롭게 설명을 받아볼 수 있습니다."
   ]
  },
  {
   "cell_type": "code",
   "execution_count": null,
   "metadata": {},
   "outputs": [],
   "source": [
    "text = \"\"\" Generate a simple explanation for the following code:  \"\"\" \n",
    "payload = build_basic_prompt_paylod(text)\n",
    "response = call_wca_url(payload=payload, apikey=iam_apikey, file_dict=[\"assets/sample.py\"]) \n",
    "result = (response['response']['message']['content'])\n",
    "print(result)"
   ]
  },
  {
   "cell_type": "markdown",
   "metadata": {},
   "source": [
    "### Lab 1.3. 단위 테스트 코드 생성\n",
    "\n",
    "WCA API를 사용해 sample.py 파일에 대한 unit test 코드를 생성합니다."
   ]
  },
  {
   "cell_type": "code",
   "execution_count": null,
   "metadata": {},
   "outputs": [],
   "source": [
    "text = \"\"\" Generate unit test framework for the following code: \"\"\" \n",
    "payload = build_basic_prompt_paylod(text)\n",
    "response = call_wca_url(payload=payload, apikey=iam_apikey, file_dict=[\"assets/sample.py\"]) \n",
    "result = (response['response']['message']['content'])\n",
    "print(result)"
   ]
  }
 ],
 "metadata": {
  "kernelspec": {
   "display_name": "Python 3",
   "language": "python",
   "name": "python3"
  },
  "language_info": {
   "codemirror_mode": {
    "name": "ipython",
    "version": 3
   },
   "file_extension": ".py",
   "mimetype": "text/x-python",
   "name": "python",
   "nbconvert_exporter": "python",
   "pygments_lexer": "ipython3",
   "version": "3.11.11"
  }
 },
 "nbformat": 4,
 "nbformat_minor": 2
}
